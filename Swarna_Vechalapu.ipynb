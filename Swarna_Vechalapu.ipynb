{
  "nbformat": 4,
  "nbformat_minor": 0,
  "metadata": {
    "colab": {
      "name": "Swarna Vechalapu.ipynb",
      "provenance": [],
      "authorship_tag": "ABX9TyO39RBfXU8ORN7Sq1JkxTUV",
      "include_colab_link": true
    },
    "kernelspec": {
      "name": "python3",
      "display_name": "Python 3"
    },
    "language_info": {
      "name": "python"
    }
  },
  "cells": [
    {
      "cell_type": "markdown",
      "metadata": {
        "id": "view-in-github",
        "colab_type": "text"
      },
      "source": [
        "<a href=\"https://colab.research.google.com/github/Swarna200/Sivasatya-Sai-Swarna.Vechalapu/blob/main/Swarna_Vechalapu.ipynb\" target=\"_parent\"><img src=\"https://colab.research.google.com/assets/colab-badge.svg\" alt=\"Open In Colab\"/></a>"
      ]
    },
    {
      "cell_type": "code",
      "metadata": {
        "id": "EpIKIwR2661B",
        "colab": {
          "base_uri": "https://localhost:8080/"
        },
        "outputId": "9c6e2d7d-efc8-4160-fb59-cecfde2597a0"
      },
      "source": [
        "from keras.datasets import mnist\n",
        " \n",
        "data = mnist.load_data()"
      ],
      "execution_count": null,
      "outputs": [
        {
          "output_type": "stream",
          "text": [
            "Downloading data from https://storage.googleapis.com/tensorflow/tf-keras-datasets/mnist.npz\n",
            "11493376/11490434 [==============================] - 0s 0us/step\n"
          ],
          "name": "stdout"
        }
      ]
    },
    {
      "cell_type": "code",
      "metadata": {
        "id": "fzQYKpt-7lbj"
      },
      "source": [
        "((x_train, y_train), (x_test, y_test)) =data"
      ],
      "execution_count": null,
      "outputs": []
    },
    {
      "cell_type": "code",
      "metadata": {
        "id": "wPG-we_-8KcX"
      },
      "source": [
        "x_train = x_train.reshape((x_train.shape[0], 28*28)).astype('float32')\n",
        "x_test =  x_test.reshape((x_test.shape[0], 28*28)).astype('float32')"
      ],
      "execution_count": null,
      "outputs": []
    },
    {
      "cell_type": "code",
      "metadata": {
        "id": "V_tKAkYI8g5Z"
      },
      "source": [
        "x_train = x_train / 255\n",
        "x_test = x_test / 255"
      ],
      "execution_count": null,
      "outputs": []
    },
    {
      "cell_type": "code",
      "metadata": {
        "id": "kE4Xfm_x8xIw"
      },
      "source": [
        "from Keras.utils import np_utils\n",
        "Print(y_test.shape)\n",
        " \n",
        "y_train = np_utils.to_categorical(y_train)\n",
        "y_test = np_utils.to_categorical(y_test)\n",
        " \n",
        "num_classes = y_test.shape[1]\n",
        "print(y_test.shape)"
      ],
      "execution_count": null,
      "outputs": []
    },
    {
      "cell_type": "code",
      "metadata": {
        "id": "ARpRsI3U-4Sa"
      },
      "source": [
        "from Keras.models import sequential\n",
        "from Keras.layers import dense"
      ],
      "execution_count": null,
      "outputs": []
    },
    {
      "cell_type": "code",
      "metadata": {
        "id": "vBpuHcs0_JFp"
      },
      "source": [
        "model = sequential()\n",
        "model.add(Dense(32, input_dim =28*28, activation ='relu'))\n",
        "model.add(Dense(64, activation='relu'))\n",
        "model.add(Dense(10, activation='softmax'))"
      ],
      "execution_count": null,
      "outputs": []
    },
    {
      "cell_type": "code",
      "metadata": {
        "id": "ncRqbbNOAWx2"
      },
      "source": [
        "model.compile(loss='categorical-crossentropy',optimizer='adam', metrics=['accuracy'])"
      ],
      "execution_count": null,
      "outputs": []
    },
    {
      "cell_type": "code",
      "metadata": {
        "id": "ITyoLSOhAj6U"
      },
      "source": [
        "model.summary()"
      ],
      "execution_count": null,
      "outputs": []
    },
    {
      "cell_type": "code",
      "metadata": {
        "id": "DAPpKmL5AuwL"
      },
      "source": [
        "model.fit(x_train, y_train, epochs=10, batch_size=100)"
      ],
      "execution_count": null,
      "outputs": []
    },
    {
      "cell_type": "code",
      "metadata": {
        "id": "tNF6vJKKCDUD"
      },
      "source": [
        "scores = model.evaluate(x_test, y_test)\n",
        "print (scores)"
      ],
      "execution_count": null,
      "outputs": []
    }
  ]
}